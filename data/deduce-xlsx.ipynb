{
 "cells": [
  {
   "cell_type": "markdown",
   "metadata": {},
   "source": [
    "# DEDUCE XSLX\n",
    "\n",
    "Anonymize Excel sheets in Dutch using Deduce\n",
    "\n",
    "For more info: https://github.com/vmenger/deduce or https://deduce.readthedocs.io/en/latest/"
   ]
  },
  {
   "cell_type": "markdown",
   "metadata": {},
   "source": [
    "### 1. Install required dependencies"
   ]
  },
  {
   "cell_type": "code",
   "execution_count": null,
   "metadata": {},
   "outputs": [],
   "source": [
    "!pip install deduce==3.0.3\n",
    "!pip install pandas\n",
    "!pip install openpyxl"
   ]
  },
  {
   "cell_type": "markdown",
   "metadata": {},
   "source": [
    "### 2. Read Excel source file"
   ]
  },
  {
   "cell_type": "code",
   "execution_count": null,
   "metadata": {},
   "outputs": [],
   "source": [
    "xlsx_file_name = \"Dataset_mijnIBDcoach_NLP_tekstberichten_20240723_structuur.xlsx\" # this file can be dropped in the left pane\n",
    "\n",
    "import pandas as pd\n",
    "df = pd.read_excel(xlsx_file_name, sheet_name=None) # read all sheets\n",
    "sheet_names = df.keys()  # get all sheet names\n",
    "print(sheet_names) # print all sheet names"
   ]
  },
  {
   "cell_type": "markdown",
   "metadata": {},
   "source": [
    "### 3. Write an overview of the sheets-column names"
   ]
  },
  {
   "cell_type": "code",
   "execution_count": null,
   "metadata": {
    "notebookRunGroups": {
     "groupValue": "1"
    }
   },
   "outputs": [],
   "source": [
    "\n",
    "df_deduce_overview = pd.DataFrame(columns=['Sheet', 'Column', 'Anonymize'])\n",
    "deduce_overview_file_name = \"deduce_overview.xlsx\"\n",
    "sheet_list = []\n",
    "column_list = []\n",
    "\n",
    "for sheet in sheet_names:\n",
    "    print(f\"Sheet: {sheet}\")\n",
    "    df = pd.read_excel(xlsx_file_name, sheet_name=sheet) # read all sheets\n",
    "    df.columns = df.iloc[0] # set the first row as column names\n",
    "    columns = df.columns\n",
    "    print(columns)\n",
    "    for column in columns:\n",
    "        sheet_list.append(sheet)\n",
    "        column_list.append(column)\n",
    "    \n",
    "df_deduce_overview[\"Sheet\"] = sheet_list\n",
    "df_deduce_overview[\"Column\"] = column_list\n",
    "df_deduce_overview[\"Anonymize\"] = False\n",
    "df_deduce_overview.to_excel(deduce_overview_file_name, index=False)"
   ]
  },
  {
   "cell_type": "markdown",
   "metadata": {},
   "source": [
    "### 4. Manually edit and save the overview \"deduce_overview.xlsx\""
   ]
  },
  {
   "cell_type": "markdown",
   "metadata": {},
   "source": [
    "### 5. Anonymize the sheets as indicated in the deduce_overview.xlsx file"
   ]
  },
  {
   "cell_type": "code",
   "execution_count": null,
   "metadata": {},
   "outputs": [],
   "source": [
    "df_deduce_overview = pd.read_excel(deduce_overview_file_name)\n",
    "\n",
    "from deduce import Deduce\n",
    "\n",
    "deduce = Deduce()\n",
    "\n",
    "def deduce_text(text):\n",
    "    return deduce.deidentify(text).deidentified_text\n",
    "\n",
    "for sheet in sheet_names:\n",
    "    df = pd.read_excel(xlsx_file_name, sheet_name=sheet) # read all sheets\n",
    "    df.columns = df.iloc[0] # set the first row as column names\n",
    "    columns = df.columns\n",
    "\n",
    "    for column in columns:\n",
    "        # print(f\"Sheet: {sheet} - Column: {column}\")\n",
    "        rows = df_deduce_overview.loc[(df_deduce_overview['Sheet'] == sheet) & (df_deduce_overview['Column'] == column)]\n",
    "        if rows.empty:\n",
    "            print(f\"Warning! Sheet: {sheet} - Column: {column} not found in deduce_overview\")\n",
    "            continue\n",
    "        if rows.iloc[0][\"Anonymize\"]:\n",
    "            print(f\"Anonymizing {sheet} - {column}\")\n",
    "            df[column] = df[column].apply(lambda x: deduce_text(x))\n",
    "    \n",
    "    df.to_excel(xlsx_file_name.replace(\".xlsx\", f\"_{sheet}_anonymzed.xlsx\"), index=False)"
   ]
  }
 ],
 "metadata": {
  "kernelspec": {
   "display_name": "base",
   "language": "python",
   "name": "python3"
  },
  "language_info": {
   "codemirror_mode": {
    "name": "ipython",
    "version": 3
   },
   "file_extension": ".py",
   "mimetype": "text/x-python",
   "name": "python",
   "nbconvert_exporter": "python",
   "pygments_lexer": "ipython3",
   "version": "3.11.9"
  }
 },
 "nbformat": 4,
 "nbformat_minor": 2
}
